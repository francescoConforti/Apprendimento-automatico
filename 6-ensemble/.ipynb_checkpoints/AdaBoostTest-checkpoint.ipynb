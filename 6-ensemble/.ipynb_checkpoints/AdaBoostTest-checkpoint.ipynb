{
 "cells": [
  {
   "cell_type": "code",
   "execution_count": 1,
   "metadata": {},
   "outputs": [],
   "source": [
    "import numpy as np\n",
    "import math\n",
    "from copy import copy\n",
    "import sklearn.datasets\n",
    "from sklearn import svm\n",
    "from sklearn import metrics"
   ]
  },
  {
   "cell_type": "code",
   "execution_count": 2,
   "metadata": {},
   "outputs": [],
   "source": [
    "X,y = sklearn.datasets.make_hastie_10_2()\n",
    "X_train = X[0:8000,:]\n",
    "y_train = y[0:8000]\n",
    "X_test = X[8000:,:]\n",
    "y_test = y[8000:]"
   ]
  },
  {
   "cell_type": "markdown",
   "metadata": {},
   "source": [
    "# Exercise 1\n",
    "Implement the AdaBoost ensemble algorithm by completing the following code:"
   ]
  },
  {
   "cell_type": "code",
   "execution_count": 3,
   "metadata": {},
   "outputs": [],
   "source": [
    "import copy \n",
    "\n",
    "class SVC_:\n",
    "    def __init__(self, kernel=\"rbf\", degree=\"3\"):\n",
    "        self.svc = svm.SVC(kernel=kernel, degree=degree, gamma='auto')\n",
    "\n",
    "    def fit(self, X,y,sample_weight=None):\n",
    "        if sample_weight is not None:\n",
    "            sample_weight = sample_weight * len(X)\n",
    "\n",
    "        self.svc.fit(X,y,sample_weight=sample_weight)\n",
    "        return self\n",
    "\n",
    "    def predict(self, X):\n",
    "        return self.svc.predict(X)\n",
    "\n",
    "def error(predictions, labels):\n",
    "    errors = 0\n",
    "    for i in range(len(labels)):\n",
    "        if predictions[i] != labels[i]:\n",
    "            errors += 1\n",
    "    return errors / len(labels)\n",
    "\n",
    "class AdaBoost:\n",
    "    def __init__(self, weakModel, T):\n",
    "        self.base_model = weakModel\n",
    "        self.num_iter = T\n",
    "        self.models = [None]*T\n",
    "        for i in range(T):\n",
    "            self.models[i] = copy.deepcopy(weakModel)\n",
    "        self.alpha = [0] * T\n",
    "        self.K = 500\n",
    "            \n",
    "\n",
    "    def fit(self, X, y):\n",
    "        y = np.array(y)        \n",
    "        w = np.full(len(X), 1./float(len(X)))\n",
    "        for i in range(self.num_iter):\n",
    "            self.models[i].fit(X, y, sample_weight=w)\n",
    "            predictions = self.models[i].predict(X)\n",
    "            epsilon = 0\n",
    "            for j in range(len(X)):\n",
    "                if predictions[j] != y[j]:\n",
    "                    epsilon += w[j]\n",
    "            self.alpha[i] = 0.5 * np.log((1- epsilon) / epsilon)\n",
    "            w = w * np.exp(-self.alpha[i]*y*predictions)       \n",
    "            w = w / np.linalg.norm(w, 1)\n",
    "            if i % self.K == 0:\n",
    "                pass\n",
    "                print(\"Training iterazione \" + str(i))\n",
    "                print(\"Errore modello corrente: \" + str(error(predictions, y)))\n",
    "                print(\"Errore ensemble: \" + str(error(self.predict(X, i), y)))\n",
    "        return self\n",
    "            \n",
    "\n",
    "    def predict(self, X, iterations=-1): # iterations is only for testing\n",
    "        if iterations == -1:\n",
    "            iterations = self.num_iter\n",
    "        res = [0] * len(X)\n",
    "        for i in range(iterations):\n",
    "            pred = self.models[i].predict(X)\n",
    "            weighted_pred = [p * self.alpha[i] for p in pred]\n",
    "            for j in range(len(X)):\n",
    "                res[j] += weighted_pred[j]\n",
    "        res = [np.sign(r) for r in res]\n",
    "        return res"
   ]
  },
  {
   "cell_type": "markdown",
   "metadata": {},
   "source": [
    "In the implementation you are free to assume:\n",
    "- that the problem is a binary classification problem with labels in $\\{-1, +1\\}$.\n",
    "- that the weakModel can fit a weighted sample set by means of the call `weakModel.fit(X,y,sample_weight=w)` where `w` is a vector of length $|y|$."
   ]
  },
  {
   "cell_type": "markdown",
   "metadata": {},
   "source": [
    "Test your implementation on the dataset loaded above and using an SVC with a polynomial kernel. "
   ]
  },
  {
   "cell_type": "code",
   "execution_count": 4,
   "metadata": {},
   "outputs": [
    {
     "name": "stdout",
     "output_type": "stream",
     "text": [
      "Training iterazione 0\n",
      "Errore modello corrente: 0.3435\n",
      "Errore ensemble: 1.0\n"
     ]
    }
   ],
   "source": [
    "weakModel = SVC_(kernel=\"poly\", degree=3)\n",
    "adaboost = AdaBoost(weakModel, 100)\n",
    "c = adaboost.fit(X_train, y_train)"
   ]
  },
  {
   "cell_type": "code",
   "execution_count": 5,
   "metadata": {},
   "outputs": [
    {
     "name": "stdout",
     "output_type": "stream",
     "text": [
      "(8000, 10)\n"
     ]
    }
   ],
   "source": [
    "print(X_train.shape)\n",
    "y_train_ = adaboost.predict(X_train)\n",
    "y_test_ = adaboost.predict(X_test)"
   ]
  },
  {
   "cell_type": "code",
   "execution_count": 6,
   "metadata": {},
   "outputs": [
    {
     "name": "stdout",
     "output_type": "stream",
     "text": [
      "Train Error: 0.11625\n",
      "Train Accuracy: 0.88375\n"
     ]
    }
   ],
   "source": [
    "print(\"Train Error:\", error(y_train, y_train_))\n",
    "print(\"Train Accuracy:\", metrics.accuracy_score(y_train, y_train_))"
   ]
  },
  {
   "cell_type": "code",
   "execution_count": 7,
   "metadata": {},
   "outputs": [
    {
     "name": "stdout",
     "output_type": "stream",
     "text": [
      "Test Error: 0.14025\n",
      "Test Accuracy: 0.85975\n"
     ]
    }
   ],
   "source": [
    "print(\"Test Error:\", error(y_test, y_test_))\n",
    "print(\"Test Accuracy:\", metrics.accuracy_score(y_test, y_test_))"
   ]
  },
  {
   "cell_type": "code",
   "execution_count": 8,
   "metadata": {},
   "outputs": [
    {
     "name": "stdout",
     "output_type": "stream",
     "text": [
      "Acc:  0.60225\n"
     ]
    }
   ],
   "source": [
    "svc = svm.SVC(kernel='poly', degree=3, gamma='auto')\n",
    "svc = svc.fit(X_train, y_train)\n",
    "p = svc.predict(X_test)\n",
    "print('Acc: ', metrics.accuracy_score(y_test, p))"
   ]
  },
  {
   "cell_type": "markdown",
   "metadata": {},
   "source": [
    "and evaluate the AdaBoost performances as usual by calculating the classification error. \n",
    "\n",
    "**Note 1**:  \n",
    "since the labels are bound to be in ${+1, -1}$, the classification error can be easily computed as:\n",
    "$$\n",
    "   error(y,y') = \\frac{1}{2} - \\frac{y^T \\times y'}{2N},\n",
    "$$\n",
    "where $N$ is the total number of examples. The formula can be derived noticing that $y^T \\times y'$ calculates the number $N_c$ of examples correctly classified  minus the number $N_{\\bar c}$ of examples incorrectly classified. We have then $y^T \\times y' = N_c - N_{\\bar c}$ and by noticing that $N = N_c + N_{\\bar c}$:\n",
    "$$\n",
    "   N - y^T \\times y' = 2 N_{\\bar c} \\Rightarrow \\frac{N - y^T \\times y'}{2 N} = \\frac{N_{\\bar c}}{N} = error(y,y')\n",
    "$$\n",
    "\n",
    "**Note 2**:\n",
    "do not forget to deepcopy your base model before fitting it to the new data\n",
    "\n",
    "**Note 3**:\n",
    "The SVC model allows specifying weights, but it *does not* work well when weights are normalized (it works well when the weights are larger). The following class takes normalized weights and denormalize them before passing them to the SVC classifier:\n",
    "\n",
    "```python\n",
    "    class SVC_:\n",
    "        def __init__(self, kernel=\"rbf\", degree=\"3\"):\n",
    "            self.svc = SVC(kernel=kernel, degree=degree)\n",
    "\n",
    "        def fit(self, X,y,sample_weight=None):\n",
    "            if sample_weight is not None:\n",
    "                sample_weight = sample_weight * len(X)\n",
    "\n",
    "            self.svc.fit(X,y,sample_weight=sample_weight)\n",
    "            return self\n",
    "\n",
    "        def predict(self, X):\n",
    "            return self.svc.predict(X)\n",
    "```"
   ]
  },
  {
   "cell_type": "markdown",
   "metadata": {},
   "source": [
    "# Exercise 2"
   ]
  },
  {
   "cell_type": "markdown",
   "metadata": {},
   "source": [
    "Write a weak learner to be used with the AdaBoost algorithm you just wrote. The weak learner that you will implement shall work as follows:\n",
    "\n",
    "- creates a random linear model $y(x) = \\mathbf{w} \\cdot \\mathbf{x} + t$ by generating the needed weight vector $\\mathbf{w}$ and $t$ at random; each weight shall be sampled from U(-1,1);\n",
    "- it evaluates the weighted loss $\\epsilon_t$ on the given dataset and flip the linear model if $\\epsilon_t > 0.5$\n",
    "- at prediction time it predicts +1 if $\\mathbf{x} \\cdot \\mathbf{w} > 0$ it predicts -1 otherwise."
   ]
  },
  {
   "cell_type": "code",
   "execution_count": 9,
   "metadata": {},
   "outputs": [],
   "source": [
    "class RandomLinearModel:\n",
    "    def loss(self, y, y_, w = [1/len(y)] * len(y)):\n",
    "        res = 0\n",
    "        for i in range(len(y)):\n",
    "            if y[i] != y_[i]:\n",
    "                res += w[i]\n",
    "        return res\n",
    "        \n",
    "    def fit(self,X,y,sample_weight=None):\n",
    "        self.flip = False\n",
    "        self.w = np.random.uniform(-1, 1, len(X[0]))\n",
    "        self.t = np.random.uniform(-1, 1)\n",
    "        weighted_loss = self.loss(y, self.predict(X), sample_weight)\n",
    "        if weighted_loss > 0.5:\n",
    "            self.flip = True\n",
    "        return self\n",
    "        \n",
    "    def predict(self,X):\n",
    "        predictions = []\n",
    "        for x in X:\n",
    "            s = 0\n",
    "            for feature in range(len(x)):\n",
    "                s += self.w[feature] * x[feature]\n",
    "            predictions.append(np.sign(s + self.t))\n",
    "        if self.flip:\n",
    "            predictions = [-p for p in predictions]\n",
    "        return predictions"
   ]
  },
  {
   "cell_type": "markdown",
   "metadata": {},
   "source": [
    "Learn an AdaBoost model using the RandomLinearModel weak learner printing every $K$ iterations the weighted error and the current error of the ensemble (you are free to choose $K$ so to make your output just frequent enough to let you know what is happening but without flooding the console with messages). Evaluate the training and test error of the final ensemble model."
   ]
  },
  {
   "cell_type": "code",
   "execution_count": 10,
   "metadata": {},
   "outputs": [
    {
     "name": "stdout",
     "output_type": "stream",
     "text": [
      "Training iterazione 0\n",
      "Errore modello corrente: 0.470125\n",
      "Errore ensemble: 1.0\n",
      "Training iterazione 500\n",
      "Errore modello corrente: 0.46875\n",
      "Errore ensemble: 0.42375\n",
      "Training iterazione 1000\n",
      "Errore modello corrente: 0.482375\n",
      "Errore ensemble: 0.390875\n",
      "Training iterazione 1500\n",
      "Errore modello corrente: 0.507125\n",
      "Errore ensemble: 0.36575\n",
      "Training iterazione 2000\n",
      "Errore modello corrente: 0.527125\n",
      "Errore ensemble: 0.356875\n",
      "Training iterazione 2500\n",
      "Errore modello corrente: 0.521\n",
      "Errore ensemble: 0.34225\n",
      "Training iterazione 3000\n",
      "Errore modello corrente: 0.4705\n",
      "Errore ensemble: 0.324125\n",
      "Training iterazione 3500\n",
      "Errore modello corrente: 0.49525\n",
      "Errore ensemble: 0.3115\n",
      "Training iterazione 4000\n",
      "Errore modello corrente: 0.48525\n",
      "Errore ensemble: 0.297875\n",
      "Training iterazione 4500\n",
      "Errore modello corrente: 0.473125\n",
      "Errore ensemble: 0.288\n",
      "Training iterazione 5000\n",
      "Errore modello corrente: 0.53975\n",
      "Errore ensemble: 0.273375\n",
      "Training iterazione 5500\n",
      "Errore modello corrente: 0.534125\n",
      "Errore ensemble: 0.262875\n",
      "Training iterazione 6000\n",
      "Errore modello corrente: 0.517625\n",
      "Errore ensemble: 0.257\n",
      "Training iterazione 6500\n",
      "Errore modello corrente: 0.505375\n",
      "Errore ensemble: 0.24375\n",
      "Training iterazione 7000\n",
      "Errore modello corrente: 0.485125\n",
      "Errore ensemble: 0.23825\n",
      "Training iterazione 7500\n",
      "Errore modello corrente: 0.495125\n",
      "Errore ensemble: 0.23025\n",
      "Training iterazione 8000\n",
      "Errore modello corrente: 0.529375\n",
      "Errore ensemble: 0.212875\n",
      "Training iterazione 8500\n",
      "Errore modello corrente: 0.4945\n",
      "Errore ensemble: 0.213875\n",
      "Training iterazione 9000\n",
      "Errore modello corrente: 0.525375\n",
      "Errore ensemble: 0.207625\n",
      "Training iterazione 9500\n",
      "Errore modello corrente: 0.48\n",
      "Errore ensemble: 0.19775\n"
     ]
    }
   ],
   "source": [
    "rs = RandomLinearModel()\n",
    "a = AdaBoost(rs, 10000)\n",
    "a.fit(X_train, y_train)\n",
    "\n",
    "y_train_ = a.predict(X_train)\n",
    "y_test_ = a.predict(X_test)"
   ]
  },
  {
   "cell_type": "code",
   "execution_count": 11,
   "metadata": {},
   "outputs": [
    {
     "name": "stdout",
     "output_type": "stream",
     "text": [
      "Train Error: 0.194125\n",
      "Train Accuracy: 0.805875\n"
     ]
    }
   ],
   "source": [
    "print(\"Train Error:\", error(y_train, y_train_))\n",
    "print(\"Train Accuracy:\", metrics.accuracy_score(y_train, y_train_))"
   ]
  },
  {
   "cell_type": "code",
   "execution_count": 12,
   "metadata": {},
   "outputs": [
    {
     "name": "stdout",
     "output_type": "stream",
     "text": [
      "Test Error: 0.438\n",
      "Test Accuracy: 0.562\n"
     ]
    }
   ],
   "source": [
    "print(\"Test Error:\", error(y_test, y_test_))\n",
    "print(\"Test Accuracy:\", metrics.accuracy_score(y_test, y_test_))"
   ]
  },
  {
   "cell_type": "markdown",
   "metadata": {},
   "source": [
    "Write few paragraphs about what you think about the experiment and about the results you obtained. "
   ]
  },
  {
   "cell_type": "markdown",
   "metadata": {},
   "source": [
    "As expected AdaBoost greatly increased the performance of the linear algorithms. When using the SVM with cubic kernel we get comparable accuracy on both training and test set, always much higher than the accuracy of the weak learner alone.\n",
    "Using the random linear model as a weak learner we can get an acceptable error on the training set through 10000 iterations. This shows the AdaBoost capability as a bias reduction machine. But the error on the test set is almost as high as the random model: that is because the error reduction applies only to the training examples and, while it can carry over to new examples, this experiment shows it's not always the case."
   ]
  },
  {
   "cell_type": "code",
   "execution_count": null,
   "metadata": {},
   "outputs": [],
   "source": []
  }
 ],
 "metadata": {
  "anaconda-cloud": {},
  "kernelspec": {
   "display_name": "Python 3",
   "language": "python",
   "name": "python3"
  },
  "language_info": {
   "codemirror_mode": {
    "name": "ipython",
    "version": 3
   },
   "file_extension": ".py",
   "mimetype": "text/x-python",
   "name": "python",
   "nbconvert_exporter": "python",
   "pygments_lexer": "ipython3",
   "version": "3.5.3"
  }
 },
 "nbformat": 4,
 "nbformat_minor": 1
}
