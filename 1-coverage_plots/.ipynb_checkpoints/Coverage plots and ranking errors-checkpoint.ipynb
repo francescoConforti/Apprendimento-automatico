{
 "cells": [
  {
   "cell_type": "code",
   "execution_count": null,
   "metadata": {},
   "outputs": [],
   "source": [
    "%matplotlib inline\n",
    "from sklearn import datasets\n",
    "from sklearn.linear_model import LogisticRegression\n",
    "from sklearn.svm import SVC\n",
    "import matplotlib.pyplot as plt\n",
    "import numpy as np"
   ]
  },
  {
   "cell_type": "markdown",
   "metadata": {},
   "source": [
    "# Coverage Plot of a Ranking Classifier"
   ]
  },
  {
   "cell_type": "markdown",
   "metadata": {},
   "source": [
    "## First part: load the data and fit a scoring classifier\n",
    "\n",
    "- load the breast cancer dataset using the sklearn.datasets module;\n",
    "- import the learning algorithm of your choice (e.g., `linear_model.LogisticRegression`);\n",
    "- use the fit method to learn a new classifier specifying that you want the classifier to be setup to output probability estimates (use parameter 'probability=True' when instantiating the class);\n",
    "- use the learnt classifier to obtain the scores for the objects in the training set (use the `predict_proba` method);\n",
    "\n",
    "## Second part: ranking and coverage plot\n",
    "\n",
    "- Use the scores you just obtained to rank the examples (from higher to lower probability of being in class 1);\n",
    "- consider all possible classifiers you can obtain from such order by splitting the sequence in two and then deciding to label everything on the left as positive and everything on the right as negative);\n",
    "- evaluate the number of false positive examples (FP) and the number of true positive examples (TP) for each split;\n",
    "- plot those values on a scatter plot (hint: use the `matplotlib.pyplot.plot` function);\n",
    "\n",
    "## Third part: ranking error and the area under the coverage plot\n",
    "\n",
    "- Write a function `coverage_area` that given a set of (FP,TP) points, evaluates the area under the curve specified by those points;\n",
    "- Write the function `ranking error` that evaluates the ranking error: \n",
    "$$\n",
    "error=\\frac{\\sum_{{x^+} \\in \\mathrm{Pos} }\\sum_{{x^-} \\in \\mathrm{Neg} } I\\left[\\hat{s}(x^+) < \\hat{s}(x^-)\\right] + \\frac{1}{2} I\\left[\\hat{s}(x^+) = \\hat{s}(x^-)\\right]}{\\mathrm{|Pos|}\\times\\mathrm{|Neg|}}\n",
    "$$\n",
    "- Verify that $1$ minus the coverage area equals the ranking error.\n",
    "\n",
    "### Hints:\n",
    "To write the `coverage_area` function you might want to sum all the rectangles having sides $\\Delta \\mathrm{TP}$ and $\\mathrm{Neg} - \\mathrm{FP}$ (see also the picture below and notice that you should assume that the sequence of (FP,TP) points is sorted). \n",
    "\n",
    "<img src=\"./cov-area.png\">"
   ]
  },
  {
   "cell_type": "code",
   "execution_count": null,
   "metadata": {},
   "outputs": [],
   "source": []
  }
 ],
 "metadata": {
  "kernelspec": {
   "display_name": "Python 3",
   "language": "python",
   "name": "python3"
  },
  "language_info": {
   "codemirror_mode": {
    "name": "ipython",
    "version": 2
   },
   "file_extension": ".py",
   "mimetype": "text/x-python",
   "name": "python",
   "nbconvert_exporter": "python",
   "pygments_lexer": "ipython2",
   "version": "2.7.10"
  }
 },
 "nbformat": 4,
 "nbformat_minor": 2
}
