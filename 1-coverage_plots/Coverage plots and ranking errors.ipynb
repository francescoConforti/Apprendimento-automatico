{
 "cells": [
  {
   "cell_type": "code",
   "execution_count": 1,
   "metadata": {},
   "outputs": [],
   "source": [
    "%matplotlib inline\n",
    "from sklearn import datasets\n",
    "from sklearn.linear_model import LogisticRegression\n",
    "from sklearn.svm import SVC\n",
    "import matplotlib.pyplot as plt\n",
    "import numpy as np"
   ]
  },
  {
   "cell_type": "markdown",
   "metadata": {},
   "source": [
    "# Coverage Plot of a Ranking Classifier"
   ]
  },
  {
   "cell_type": "markdown",
   "metadata": {},
   "source": [
    "## First part: load the data and fit a scoring classifier\n",
    "\n",
    "- load the breast cancer dataset using the sklearn.datasets module;\n",
    "- import the learning algorithm of your choice (e.g., `linear_model.LogisticRegression`);\n",
    "- use the fit method to learn a new classifier specifying that you want the classifier to be setup to output probability estimates (use parameter 'probability=True' when instantiating the class);\n",
    "- use the learnt classifier to obtain the scores for the objects in the training set (use the `predict_proba` method);\n",
    "\n",
    "## Second part: ranking and coverage plot\n",
    "\n",
    "- Use the scores you just obtained to rank the examples (from higher to lower probability of being in class 1);\n",
    "- consider all possible classifiers you can obtain from such order by splitting the sequence in two and then deciding to label everything on the left as positive and everything on the right as negative);\n",
    "- evaluate the number of false positive examples (FP) and the number of true positive examples (TP) for each split;\n",
    "- plot those values on a scatter plot (hint: use the `matplotlib.pyplot.plot` function);\n",
    "\n",
    "## Third part: ranking error and the area under the coverage plot\n",
    "\n",
    "- Write a function `coverage_area` that given a set of (FP,TP) points, evaluates the area under the curve specified by those points;\n",
    "- Write the function `ranking error` that evaluates the ranking error: \n",
    "$$\n",
    "error=\\frac{\\sum_{{x^+} \\in \\mathrm{Pos} }\\sum_{{x^-} \\in \\mathrm{Neg} } I\\left[\\hat{s}(x^+) < \\hat{s}(x^-)\\right] + \\frac{1}{2} I\\left[\\hat{s}(x^+) = \\hat{s}(x^-)\\right]}{\\mathrm{|Pos|}\\times\\mathrm{|Neg|}}\n",
    "$$\n",
    "- Verify that $1$ minus the coverage area equals the ranking error.\n",
    "\n",
    "### Hints:\n",
    "To write the `coverage_area` function you might want to sum all the rectangles having sides $\\Delta \\mathrm{TP}$ and $\\mathrm{Neg} - \\mathrm{FP}$ (see also the picture below and notice that you should assume that the sequence of (FP,TP) points is sorted). \n",
    "\n",
    "<img src=\"./cov-area.png\">"
   ]
  },
  {
   "cell_type": "code",
   "execution_count": 44,
   "metadata": {
    "scrolled": false
   },
   "outputs": [
    {
     "name": "stdout",
     "output_type": "stream",
     "text": [
      "[[1.00000000e+00 3.86884279e-14]\n",
      " [9.99995984e-01 4.01585687e-06]\n",
      " [9.99999441e-01 5.59287871e-07]\n",
      " ...\n",
      " [9.97805481e-01 2.19451893e-03]\n",
      " [1.00000000e+00 8.36603482e-11]\n",
      " [1.18628078e-04 9.99881372e-01]]\n"
     ]
    }
   ],
   "source": [
    "X, y = datasets.load_breast_cancer(return_X_y=True)\n",
    "classifier = LogisticRegression(max_iter=3000).fit(X, y)\n",
    "res = classifier.predict_proba(X)"
   ]
  },
  {
   "cell_type": "code",
   "execution_count": 72,
   "metadata": {},
   "outputs": [
    {
     "data": {
      "image/png": "[encoded data removed]",
      "text/plain": [
       "<Figure size 432x288 with 1 Axes>"
      ]
     },
     "metadata": {
      "needs_background": "light"
     },
     "output_type": "display_data"
    }
   ],
   "source": [
    "ranking = list(enumerate(res[: , 0])) # class 1\n",
    "ranking = sorted(ranking, key=lambda x:x[1], reverse=True)\n",
    "#print(ranking)\n",
    "classifiers = []\n",
    "for i in range(len(ranking)):\n",
    "    tp = 0\n",
    "    fp = 0\n",
    "    for j in range(len(ranking)):\n",
    "        if j <= i:\n",
    "            if y[ranking[j][0]] == 0:\n",
    "                tp+=1\n",
    "            else:\n",
    "                fp+=1\n",
    "    classifiers.append((fp, tp))\n",
    "plt.xlabel(\"false positives\")\n",
    "plt.ylabel(\"true positives\")\n",
    "plt.plot(*zip(*classifiers))\n",
    "plt.show()"
   ]
  },
  {
   "cell_type": "code",
   "execution_count": 79,
   "metadata": {},
   "outputs": [
    {
     "data": {
      "image/png": "[encoded data removed]",
      "text/plain": [
       "<Figure size 432x288 with 1 Axes>"
      ]
     },
     "metadata": {
      "needs_background": "light"
     },
     "output_type": "display_data"
    }
   ],
   "source": [
    "ranking = list(enumerate(res[: , 0])) # class 1\n",
    "ranking = sorted(ranking, key=lambda x:x[1], reverse=True)\n",
    "#print(ranking)\n",
    "classifiers_normalized = []\n",
    "for i in range(len(ranking)):\n",
    "    tp = 0\n",
    "    fp = 0\n",
    "    for j in range(len(ranking)):\n",
    "        if j <= i:\n",
    "            if y[ranking[j][0]] == 0:\n",
    "                tp+=1\n",
    "            else:\n",
    "                fp+=1\n",
    "    classifiers_normalized.append((fp / len(ranking), tp / len (ranking)))\n",
    "plt.xlabel(\"false positives\")\n",
    "plt.ylabel(\"true positives\")\n",
    "plt.plot(*zip(*classifiers_normalized))\n",
    "plt.show()"
   ]
  },
  {
   "cell_type": "code",
   "execution_count": 87,
   "metadata": {},
   "outputs": [],
   "source": [
    "def coverage_area(data, target):\n",
    "    negatives = len([t for t in target if t == 1])\n",
    "    positives = len([t for t in target if t == 0])\n",
    "    oldTP = data[0][1]\n",
    "    dTP = 0\n",
    "    area = 0\n",
    "    for (fp, tp) in data:\n",
    "        dTP = tp - oldTP\n",
    "        oldTP = tp\n",
    "        top = negatives - fp\n",
    "        area += dTP * top\n",
    "    return area / (positives * negatives)\n",
    "\n",
    "def ranking_error(ranking, target):\n",
    "    positives = len([t for t in target if t == 0])\n",
    "    negatives = len([t for t in target if t == 1])\n",
    "    penalty = 0 # only ranking errors: no ties in ranking\n",
    "    for i in range(len(ranking)):\n",
    "        if y[ranking[i][0]] == 1:\n",
    "            for j in range(i+1, len(ranking)):\n",
    "                if y[ranking[j][0]] == 0:\n",
    "                    penalty += 1\n",
    "    return penalty / (positives * negatives)"
   ]
  },
  {
   "cell_type": "code",
   "execution_count": 89,
   "metadata": {},
   "outputs": [
    {
     "name": "stdout",
     "output_type": "stream",
     "text": [
      "0.0053511970826066275\n",
      "0.010068178214682089\n"
     ]
    }
   ],
   "source": [
    "print(ranking_error(ranking, y))\n",
    "print(1 - coverage_area(classifiers, y))"
   ]
  },
  {
   "cell_type": "code",
   "execution_count": null,
   "metadata": {},
   "outputs": [],
   "source": []
  }
 ],
 "metadata": {
  "kernelspec": {
   "display_name": "Python 3",
   "language": "python",
   "name": "python3"
  },
  "language_info": {
   "codemirror_mode": {
    "name": "ipython",
    "version": 3
   },
   "file_extension": ".py",
   "mimetype": "text/x-python",
   "name": "python",
   "nbconvert_exporter": "python",
   "pygments_lexer": "ipython3",
   "version": "3.5.3"
  }
 },
 "nbformat": 4,
 "nbformat_minor": 2
}
